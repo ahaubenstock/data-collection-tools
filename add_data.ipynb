{
 "cells": [
  {
   "cell_type": "code",
   "execution_count": 72,
   "id": "956f39c0",
   "metadata": {},
   "outputs": [
    {
     "name": "stdout",
     "output_type": "stream",
     "text": [
      "\n",
      "IMPORTS:\n",
      "import pathlib\n",
      "import pandas as pd\n",
      "\n",
      "\n",
      "EXPOSED CONSTANTS:\n",
      "DATA_FILE_PATH:\t\t\tdata.xlsx\n",
      "IMAGES_FOLDER_PATH:\t\timages\n",
      "ALLOWED_IMAGE_EXTENSIONS:\t{'.PNG', '.png'}\n",
      "SPLIT:\t\t\t\t0.1\n",
      "SPLITS_FOLDER_PATH:\t\tsplits\n",
      "\n",
      "\n",
      "EXPOSED FUNCTIONS:\n",
      "read_data()\n",
      "write_data(df)\n",
      "\n"
     ]
    }
   ],
   "source": [
    "%run ./configure.ipynb"
   ]
  },
  {
   "cell_type": "code",
   "execution_count": 73,
   "id": "2007cb78",
   "metadata": {},
   "outputs": [
    {
     "data": {
      "text/plain": [
       "['Capture03.PNG', 'Capture04.PNG', 'Capture02.PNG', 'Capture01.PNG']"
      ]
     },
     "execution_count": 73,
     "metadata": {},
     "output_type": "execute_result"
    }
   ],
   "source": [
    "df = read_data()\n",
    "existing_images = set(df['file'].values)\n",
    "list(existing_images)[:10]"
   ]
  },
  {
   "cell_type": "code",
   "execution_count": 71,
   "id": "46b29b4f",
   "metadata": {},
   "outputs": [
    {
     "data": {
      "text/plain": [
       "['Capture01.PNG', 'Capture02.PNG', 'Capture03.PNG', 'Capture04.PNG']"
      ]
     },
     "execution_count": 71,
     "metadata": {},
     "output_type": "execute_result"
    }
   ],
   "source": [
    "all_images = [p.name for p in IMAGES_FOLDER_PATH.glob('*') \n",
    "                  if p.is_file()\n",
    "                    and p.suffix in ALLOWED_IMAGE_EXTENSIONS]\n",
    "all_images[:10]"
   ]
  },
  {
   "cell_type": "code",
   "execution_count": 64,
   "id": "c1556059",
   "metadata": {},
   "outputs": [
    {
     "data": {
      "text/plain": [
       "[]"
      ]
     },
     "execution_count": 64,
     "metadata": {},
     "output_type": "execute_result"
    }
   ],
   "source": [
    "new_images = [f for f in all_images if f not in existing_images]\n",
    "new_images[:10]"
   ]
  },
  {
   "cell_type": "code",
   "execution_count": 65,
   "id": "3d010329",
   "metadata": {},
   "outputs": [
    {
     "data": {
      "text/plain": [
       "['bacteria level', 'label']"
      ]
     },
     "execution_count": 65,
     "metadata": {},
     "output_type": "execute_result"
    }
   ],
   "source": [
    "attribute_names = list(set(df.columns) - {'id', 'file'})\n",
    "attribute_names"
   ]
  },
  {
   "cell_type": "code",
   "execution_count": 66,
   "id": "58d71b68",
   "metadata": {},
   "outputs": [
    {
     "name": "stdout",
     "output_type": "stream",
     "text": [
      "Adding 0 new images:\n",
      "\t\n"
     ]
    }
   ],
   "source": [
    "print(f'Adding {len(new_images)} new images:\\n\\t{\", \".join(new_images)}')"
   ]
  },
  {
   "cell_type": "code",
   "execution_count": 68,
   "id": "7d482dba",
   "metadata": {
    "scrolled": true
   },
   "outputs": [
    {
     "name": "stdout",
     "output_type": "stream",
     "text": [
      "Enter the value for attribute `bacteria level` for all of the new entries: none\n",
      "Enter the value for attribute `label` for all of the new entries: normal\n"
     ]
    }
   ],
   "source": [
    "attribute_values = [input(f'Enter the value for attribute `{attr}` for all of the new entries: ') for attr in attribute_names]"
   ]
  },
  {
   "cell_type": "code",
   "execution_count": 55,
   "id": "2d504d28",
   "metadata": {},
   "outputs": [
    {
     "data": {
      "text/plain": [
       "[3, 4]"
      ]
     },
     "execution_count": 55,
     "metadata": {},
     "output_type": "execute_result"
    }
   ],
   "source": [
    "latest_id = max(df['id'].values) if len(df['id'].values) > 0 else 0\n",
    "new_ids = list(range(latest_id + 1, latest_id + 1 + len(new_images)))\n",
    "new_ids[:10]"
   ]
  },
  {
   "cell_type": "code",
   "execution_count": 56,
   "id": "b8909a10",
   "metadata": {},
   "outputs": [
    {
     "data": {
      "text/plain": [
       "[[3, 'Capture03.PNG', 'none', 'normal'],\n",
       " [4, 'Capture04.PNG', 'none', 'normal']]"
      ]
     },
     "execution_count": 56,
     "metadata": {},
     "output_type": "execute_result"
    }
   ],
   "source": [
    "new_data = [[new_ids[i], new_images[i], *attribute_values] for i in range(len(new_images))]\n",
    "new_data[:10]"
   ]
  },
  {
   "cell_type": "code",
   "execution_count": 57,
   "id": "3946dd7c",
   "metadata": {},
   "outputs": [
    {
     "data": {
      "text/html": [
       "<div>\n",
       "<style scoped>\n",
       "    .dataframe tbody tr th:only-of-type {\n",
       "        vertical-align: middle;\n",
       "    }\n",
       "\n",
       "    .dataframe tbody tr th {\n",
       "        vertical-align: top;\n",
       "    }\n",
       "\n",
       "    .dataframe thead th {\n",
       "        text-align: right;\n",
       "    }\n",
       "</style>\n",
       "<table border=\"1\" class=\"dataframe\">\n",
       "  <thead>\n",
       "    <tr style=\"text-align: right;\">\n",
       "      <th></th>\n",
       "      <th>id</th>\n",
       "      <th>file</th>\n",
       "      <th>bacteria level</th>\n",
       "      <th>label</th>\n",
       "    </tr>\n",
       "  </thead>\n",
       "  <tbody>\n",
       "    <tr>\n",
       "      <th>0</th>\n",
       "      <td>3</td>\n",
       "      <td>Capture03.PNG</td>\n",
       "      <td>none</td>\n",
       "      <td>normal</td>\n",
       "    </tr>\n",
       "    <tr>\n",
       "      <th>1</th>\n",
       "      <td>4</td>\n",
       "      <td>Capture04.PNG</td>\n",
       "      <td>none</td>\n",
       "      <td>normal</td>\n",
       "    </tr>\n",
       "  </tbody>\n",
       "</table>\n",
       "</div>"
      ],
      "text/plain": [
       "   id           file bacteria level   label\n",
       "0   3  Capture03.PNG           none  normal\n",
       "1   4  Capture04.PNG           none  normal"
      ]
     },
     "execution_count": 57,
     "metadata": {},
     "output_type": "execute_result"
    }
   ],
   "source": [
    "new_images_df = pd.DataFrame(new_data, columns=['id', 'file', *attribute_names])\n",
    "new_images_df.head()"
   ]
  },
  {
   "cell_type": "code",
   "execution_count": 59,
   "id": "d44059d2",
   "metadata": {},
   "outputs": [
    {
     "data": {
      "text/html": [
       "<div>\n",
       "<style scoped>\n",
       "    .dataframe tbody tr th:only-of-type {\n",
       "        vertical-align: middle;\n",
       "    }\n",
       "\n",
       "    .dataframe tbody tr th {\n",
       "        vertical-align: top;\n",
       "    }\n",
       "\n",
       "    .dataframe thead th {\n",
       "        text-align: right;\n",
       "    }\n",
       "</style>\n",
       "<table border=\"1\" class=\"dataframe\">\n",
       "  <thead>\n",
       "    <tr style=\"text-align: right;\">\n",
       "      <th></th>\n",
       "      <th>id</th>\n",
       "      <th>file</th>\n",
       "      <th>label</th>\n",
       "      <th>bacteria level</th>\n",
       "    </tr>\n",
       "  </thead>\n",
       "  <tbody>\n",
       "    <tr>\n",
       "      <th>0</th>\n",
       "      <td>1</td>\n",
       "      <td>Capture01.PNG</td>\n",
       "      <td>anomalous</td>\n",
       "      <td>low</td>\n",
       "    </tr>\n",
       "    <tr>\n",
       "      <th>1</th>\n",
       "      <td>2</td>\n",
       "      <td>Capture02.PNG</td>\n",
       "      <td>anomalous</td>\n",
       "      <td>low</td>\n",
       "    </tr>\n",
       "    <tr>\n",
       "      <th>0</th>\n",
       "      <td>3</td>\n",
       "      <td>Capture03.PNG</td>\n",
       "      <td>normal</td>\n",
       "      <td>none</td>\n",
       "    </tr>\n",
       "    <tr>\n",
       "      <th>1</th>\n",
       "      <td>4</td>\n",
       "      <td>Capture04.PNG</td>\n",
       "      <td>normal</td>\n",
       "      <td>none</td>\n",
       "    </tr>\n",
       "  </tbody>\n",
       "</table>\n",
       "</div>"
      ],
      "text/plain": [
       "   id           file      label bacteria level\n",
       "0   1  Capture01.PNG  anomalous            low\n",
       "1   2  Capture02.PNG  anomalous            low\n",
       "0   3  Capture03.PNG     normal           none\n",
       "1   4  Capture04.PNG     normal           none"
      ]
     },
     "execution_count": 59,
     "metadata": {},
     "output_type": "execute_result"
    }
   ],
   "source": [
    "new_df = pd.concat([df, new_images_df])\n",
    "new_df.head()"
   ]
  },
  {
   "cell_type": "code",
   "execution_count": 60,
   "id": "17d08019",
   "metadata": {},
   "outputs": [],
   "source": [
    "write_data(new_df)\n",
    "print('Done.')"
   ]
  }
 ],
 "metadata": {
  "kernelspec": {
   "display_name": "Python 3 (ipykernel)",
   "language": "python",
   "name": "python3"
  },
  "language_info": {
   "codemirror_mode": {
    "name": "ipython",
    "version": 3
   },
   "file_extension": ".py",
   "mimetype": "text/x-python",
   "name": "python",
   "nbconvert_exporter": "python",
   "pygments_lexer": "ipython3",
   "version": "3.9.5"
  }
 },
 "nbformat": 4,
 "nbformat_minor": 5
}
