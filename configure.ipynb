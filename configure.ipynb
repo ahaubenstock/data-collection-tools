{
 "cells": [
  {
   "cell_type": "code",
   "execution_count": 42,
   "id": "8e10b295",
   "metadata": {},
   "outputs": [
    {
     "data": {
      "text/markdown": [
       "\n",
       "#### IMPORTS\n",
       "```\n",
       "import pathlib\n",
       "import pandas as pd\n",
       "import shutil\n",
       "from IPython.display import Markdown\n",
       "```\n"
      ],
      "text/plain": [
       "<IPython.core.display.Markdown object>"
      ]
     },
     "metadata": {},
     "output_type": "display_data"
    }
   ],
   "source": [
    "import pathlib\n",
    "import pandas as pd\n",
    "import shutil\n",
    "from IPython.display import Markdown\n",
    "\n",
    "display(Markdown('''\n",
    "#### IMPORTS\n",
    "```\n",
    "import pathlib\n",
    "import pandas as pd\n",
    "import shutil\n",
    "from IPython.display import Markdown\n",
    "```\n",
    "'''))"
   ]
  },
  {
   "cell_type": "code",
   "execution_count": 39,
   "id": "7b93459d",
   "metadata": {},
   "outputs": [
    {
     "data": {
      "text/markdown": [
       "\n",
       "#### EXPOSED CONSTANTS\n",
       "```\n",
       "DATA_FILE_PATH:             data.xlsx\n",
       "IMAGES_FOLDER_PATH:         images\n",
       "ALLOWED_IMAGE_EXTENSIONS:   {'.png', '.PNG'}\n",
       "SPLIT:                      0.1\n",
       "SPLITS_FOLDER_PATH:         splits\n",
       "TEST_SUB_FOLDERS:           ['good', 'bad']\n",
       "VAL_SUB_FOLDERS:            ['good', 'bad']\n",
       "TRAIN_SUB_FOLDERS:          []\n",
       "```\n",
       "\n",
       "#### EXPOSED FUNCTIONS\n",
       "```\n",
       "read_data()\n",
       "write_data(df)\n",
       "test_get_folder_name(row)\n",
       "val_get_folder_name(row)\n",
       "train_get_folder_name(row)\n",
       "test_can_include(row)\n",
       "val_can_include(row)\n",
       "train_can_include(row)\n",
       "read_process_write(read_path, write_path)\n",
       "```\n"
      ],
      "text/plain": [
       "<IPython.core.display.Markdown object>"
      ]
     },
     "metadata": {},
     "output_type": "display_data"
    }
   ],
   "source": [
    "DATA_FILE_PATH = pathlib.Path('.', 'data.xlsx')\n",
    "read_data = lambda: pd.read_excel(DATA_FILE_PATH)\n",
    "write_data = lambda df: df.to_excel(DATA_FILE_PATH, index=False)\n",
    "\n",
    "IMAGES_FOLDER_PATH = pathlib.Path('.', 'images')\n",
    "\n",
    "ALLOWED_IMAGE_EXTENSIONS = {'.png', '.PNG'}\n",
    "\n",
    "SPLIT = 0.1\n",
    "SPLITS_FOLDER_PATH = pathlib.Path('.', 'splits')\n",
    "\n",
    "TEST_SUB_FOLDERS = ['good', 'bad']\n",
    "test_get_folder_name = lambda row: 'good' if row['label'] == 'normal' else 'bad'\n",
    "test_can_include = lambda _: True\n",
    "\n",
    "VAL_SUB_FOLDERS = TEST_SUB_FOLDERS\n",
    "val_get_folder_name = test_get_folder_name\n",
    "val_can_include = test_can_include\n",
    "\n",
    "TRAIN_SUB_FOLDERS = []\n",
    "train_get_folder_name = lambda _: '.'\n",
    "train_can_include = lambda row: row['label'] == 'normal'\n",
    "row['label'] == 'anomalous' and row['bacteria level'] == 'low'\n",
    "\n",
    "# TODO: replace with correct processing step\n",
    "read_process_write = lambda read_path, write_path: shutil.copy(read_path, write_path)\n",
    "\n",
    "display(Markdown(f'''\n",
    "#### EXPOSED CONSTANTS\n",
    "```\n",
    "DATA_FILE_PATH:             {DATA_FILE_PATH}\n",
    "IMAGES_FOLDER_PATH:         {IMAGES_FOLDER_PATH}\n",
    "ALLOWED_IMAGE_EXTENSIONS:   {ALLOWED_IMAGE_EXTENSIONS}\n",
    "SPLIT:                      {SPLIT}\n",
    "SPLITS_FOLDER_PATH:         {SPLITS_FOLDER_PATH}\n",
    "TEST_SUB_FOLDERS:           {TEST_SUB_FOLDERS}\n",
    "VAL_SUB_FOLDERS:            {VAL_SUB_FOLDERS}\n",
    "TRAIN_SUB_FOLDERS:          {TRAIN_SUB_FOLDERS}\n",
    "```\n",
    "\n",
    "#### EXPOSED FUNCTIONS\n",
    "```\n",
    "read_data()\n",
    "write_data(df)\n",
    "test_get_folder_name(row)\n",
    "val_get_folder_name(row)\n",
    "train_get_folder_name(row)\n",
    "test_can_include(row)\n",
    "val_can_include(row)\n",
    "train_can_include(row)\n",
    "read_process_write(read_path, write_path)\n",
    "```\n",
    "'''))"
   ]
  },
  {
   "cell_type": "code",
   "execution_count": 16,
   "id": "65245489",
   "metadata": {},
   "outputs": [],
   "source": [
    "assert pathlib.Path(DATA_FILE_PATH).is_file(), f'cannot find data file at path `{DATA_FILE_PATH}`'"
   ]
  },
  {
   "cell_type": "code",
   "execution_count": 17,
   "id": "00567bc7",
   "metadata": {},
   "outputs": [],
   "source": [
    "df = read_data()\n",
    "assert 'id' in df.columns, 'there must be an `id` column'\n",
    "assert 'file' in df.columns, 'there must be a `file` column'\n",
    "del df"
   ]
  },
  {
   "cell_type": "code",
   "execution_count": 18,
   "id": "6689543f",
   "metadata": {},
   "outputs": [],
   "source": [
    "assert pathlib.Path(IMAGES_FOLDER_PATH).is_dir(), f'cannot find images folder at path `{IMAGES_FOLDER_PATH}`'"
   ]
  }
 ],
 "metadata": {
  "kernelspec": {
   "display_name": "Python 3 (ipykernel)",
   "language": "python",
   "name": "python3"
  },
  "language_info": {
   "codemirror_mode": {
    "name": "ipython",
    "version": 3
   },
   "file_extension": ".py",
   "mimetype": "text/x-python",
   "name": "python",
   "nbconvert_exporter": "python",
   "pygments_lexer": "ipython3",
   "version": "3.9.5"
  }
 },
 "nbformat": 4,
 "nbformat_minor": 5
}
