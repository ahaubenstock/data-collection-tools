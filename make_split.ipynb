{
 "cells": [
  {
   "cell_type": "code",
   "execution_count": 1,
   "id": "529575f8",
   "metadata": {
    "scrolled": false
   },
   "outputs": [
    {
     "name": "stdout",
     "output_type": "stream",
     "text": [
      "\n",
      "IMPORTS:\n",
      "import pathlib\n",
      "import pandas as pd\n",
      "import shutil\n",
      "\n",
      "\n",
      "EXPOSED CONSTANTS:\n",
      "DATA_FILE_PATH:\t\t\tdata.xlsx\n",
      "IMAGES_FOLDER_PATH:\t\timages\n",
      "ALLOWED_IMAGE_EXTENSIONS:\t{'.PNG', '.png'}\n",
      "SPLIT:\t\t\t\t0.1\n",
      "SPLITS_FOLDER_PATH:\t\tsplits\n",
      "TEST_SUB_FOLDERS:\t\t['good', 'bad']\n",
      "VAL_SUB_FOLDERS:\t\t['good', 'bad']\n",
      "TRAIN_SUB_FOLDERS:\t\t[]\n",
      "\n",
      "\n",
      "EXPOSED FUNCTIONS:\n",
      "read_data()\n",
      "write_data(df)\n",
      "test_get_folder_name(row)\n",
      "val_get_folder_name(row)\n",
      "train_get_folder_name(row)\n",
      "test_can_include(row)\n",
      "val_can_include(row)\n",
      "train_can_include(row)\n",
      "read_process_write(read_path, write_path)\n",
      "\n"
     ]
    }
   ],
   "source": [
    "%run ./configure.ipynb"
   ]
  },
  {
   "cell_type": "code",
   "execution_count": 2,
   "id": "9ad98984",
   "metadata": {},
   "outputs": [],
   "source": [
    "import sklearn.utils\n",
    "import math\n",
    "import itertools"
   ]
  },
  {
   "cell_type": "code",
   "execution_count": 3,
   "id": "ec416695",
   "metadata": {},
   "outputs": [
    {
     "name": "stdout",
     "output_type": "stream",
     "text": [
      "Deleting current splits directory.\n",
      "Creating directory `splits`\n",
      "Creating directory `splits/test`\n",
      "Creating directory `splits/val`\n",
      "Creating directory `splits/train`\n",
      "Creating directory `splits/val/good`\n",
      "Creating directory `splits/val/bad`\n",
      "Creating directory `splits/test/good`\n",
      "Creating directory `splits/test/bad`\n"
     ]
    }
   ],
   "source": [
    "# Make splits directory\n",
    "if SPLITS_FOLDER_PATH.is_dir():\n",
    "    print('Deleting current splits directory.')\n",
    "    shutil.rmtree(SPLITS_FOLDER_PATH)\n",
    "print(f'Creating directory `{SPLITS_FOLDER_PATH.as_posix()}`')\n",
    "SPLITS_FOLDER_PATH.mkdir()\n",
    "# Make directories for test, val, and train\n",
    "dir_paths = [pathlib.Path(SPLITS_FOLDER_PATH, d) for d in ['test', 'val', 'train']]\n",
    "test_dir_path, val_dir_path, train_dir_path = dir_paths\n",
    "for d in dir_paths:\n",
    "    print(f'Creating directory `{d.as_posix()}`')\n",
    "    d.mkdir()\n",
    "# Make subdirectories within test, val, and train depending on configuration\n",
    "for p in itertools.chain.from_iterable(\n",
    "    [pathlib.Path(dir_path, sub_dir) for sub_dir in sub_dirs] \n",
    "    for dir_path, sub_dirs in \n",
    "    [(train_dir_path, TRAIN_SUB_FOLDERS), (val_dir_path, VAL_SUB_FOLDERS), (test_dir_path, TEST_SUB_FOLDERS)]):\n",
    "    print(f'Creating directory `{p.as_posix()}`')\n",
    "    p.mkdir()"
   ]
  },
  {
   "cell_type": "code",
   "execution_count": 4,
   "id": "d3e06da3",
   "metadata": {},
   "outputs": [
    {
     "data": {
      "text/html": [
       "<div>\n",
       "<style scoped>\n",
       "    .dataframe tbody tr th:only-of-type {\n",
       "        vertical-align: middle;\n",
       "    }\n",
       "\n",
       "    .dataframe tbody tr th {\n",
       "        vertical-align: top;\n",
       "    }\n",
       "\n",
       "    .dataframe thead th {\n",
       "        text-align: right;\n",
       "    }\n",
       "</style>\n",
       "<table border=\"1\" class=\"dataframe\">\n",
       "  <thead>\n",
       "    <tr style=\"text-align: right;\">\n",
       "      <th></th>\n",
       "      <th>id</th>\n",
       "      <th>file</th>\n",
       "      <th>label</th>\n",
       "      <th>bacteria level</th>\n",
       "    </tr>\n",
       "  </thead>\n",
       "  <tbody>\n",
       "    <tr>\n",
       "      <th>0</th>\n",
       "      <td>1</td>\n",
       "      <td>Capture01.PNG</td>\n",
       "      <td>anomalous</td>\n",
       "      <td>low</td>\n",
       "    </tr>\n",
       "    <tr>\n",
       "      <th>1</th>\n",
       "      <td>2</td>\n",
       "      <td>Capture02.PNG</td>\n",
       "      <td>anomalous</td>\n",
       "      <td>low</td>\n",
       "    </tr>\n",
       "    <tr>\n",
       "      <th>2</th>\n",
       "      <td>3</td>\n",
       "      <td>Capture03.PNG</td>\n",
       "      <td>normal</td>\n",
       "      <td>none</td>\n",
       "    </tr>\n",
       "    <tr>\n",
       "      <th>3</th>\n",
       "      <td>4</td>\n",
       "      <td>Capture04.PNG</td>\n",
       "      <td>normal</td>\n",
       "      <td>none</td>\n",
       "    </tr>\n",
       "    <tr>\n",
       "      <th>4</th>\n",
       "      <td>1</td>\n",
       "      <td>Capture01.PNG</td>\n",
       "      <td>anomalous</td>\n",
       "      <td>low</td>\n",
       "    </tr>\n",
       "  </tbody>\n",
       "</table>\n",
       "</div>"
      ],
      "text/plain": [
       "   id           file      label bacteria level\n",
       "0   1  Capture01.PNG  anomalous            low\n",
       "1   2  Capture02.PNG  anomalous            low\n",
       "2   3  Capture03.PNG     normal           none\n",
       "3   4  Capture04.PNG     normal           none\n",
       "4   1  Capture01.PNG  anomalous            low"
      ]
     },
     "execution_count": 4,
     "metadata": {},
     "output_type": "execute_result"
    }
   ],
   "source": [
    "df = read_data()\n",
    "df.head()"
   ]
  },
  {
   "cell_type": "code",
   "execution_count": 5,
   "id": "b5e743f3",
   "metadata": {},
   "outputs": [
    {
     "data": {
      "text/plain": [
       "([2, 19, 14, 3, 21, 11, 26, 17, 7, 10],\n",
       " [0, 1, 9, 13, 16],\n",
       " [4, 8, 5, 20, 25, 12])"
      ]
     },
     "execution_count": 5,
     "metadata": {},
     "output_type": "execute_result"
    }
   ],
   "source": [
    "# Compile all possible combinations of splits and their respective potential indices\n",
    "signatures = [(index, (train_can_include(row), val_can_include(row), test_can_include(row)))\n",
    "              for index, row in df.iterrows()]\n",
    "indices_for = lambda signature: [index for index, sig in signatures if sig == signature]\n",
    "train_indices = indices_for((True, False, False))\n",
    "val_indices = indices_for((False, True, False))\n",
    "test_indices = indices_for((False, False, True))\n",
    "train_val_indices = indices_for((True, True, False))\n",
    "train_test_indices = indices_for((True, False, True))\n",
    "val_test_indices = indices_for((False, True, True))\n",
    "train_val_test_indices = indices_for((True, True, True))\n",
    "train = []\n",
    "val = []\n",
    "test = []\n",
    "# Divide the indices into the train, val, and test buckets\n",
    "for fractions, buckets, indices in [\n",
    "    ([1], [train], train_indices),\n",
    "    ([1], [val], val_indices),\n",
    "    ([1], [test], test_indices),\n",
    "    ([1 - SPLIT, SPLIT], [train, val], train_val_indices),\n",
    "    ([1 - SPLIT, SPLIT], [train, test], train_test_indices),\n",
    "    ([0.5, 0.5], [val, test], val_test_indices),\n",
    "    ([1 - 2*SPLIT, SPLIT, SPLIT], [train, val, test], train_val_test_indices)]:\n",
    "    amounts = [math.floor(len(indices) * f) for f in fractions]\n",
    "    if sum(amounts) < len(indices):\n",
    "        amounts[-1] += len(indices) - sum(amounts)\n",
    "    shuffled = sklearn.utils.shuffle(indices, random_state=42)\n",
    "    allocation = []\n",
    "    for amount in amounts:\n",
    "        allocation.append(shuffled[:amount])\n",
    "        shuffled = shuffled[amount:]\n",
    "    for allocated, bucket in zip(allocation, buckets):\n",
    "        bucket.extend(allocated)\n",
    "train[:10], val[:10], test[:10]"
   ]
  },
  {
   "cell_type": "code",
   "execution_count": 6,
   "id": "ef5771c4",
   "metadata": {},
   "outputs": [
    {
     "name": "stdout",
     "output_type": "stream",
     "text": [
      "Done.\n"
     ]
    }
   ],
   "source": [
    "for indices, dir_path, get_sub_dir in [\n",
    "    (train, train_dir_path, train_get_folder_name), \n",
    "    (val, val_dir_path, val_get_folder_name), \n",
    "    (test, test_dir_path, test_get_folder_name)]:\n",
    "    for _, row in df.iloc[indices].iterrows():\n",
    "        original_image_path = pathlib.Path(IMAGES_FOLDER_PATH, row['file'])\n",
    "        processed_image_path = pathlib.Path(dir_path, get_sub_dir(row), row['file']) # or change the name\n",
    "        read_process_write(original_image_path, processed_image_path)\n",
    "print('Done.')"
   ]
  }
 ],
 "metadata": {
  "kernelspec": {
   "display_name": "Python 3 (ipykernel)",
   "language": "python",
   "name": "python3"
  },
  "language_info": {
   "codemirror_mode": {
    "name": "ipython",
    "version": 3
   },
   "file_extension": ".py",
   "mimetype": "text/x-python",
   "name": "python",
   "nbconvert_exporter": "python",
   "pygments_lexer": "ipython3",
   "version": "3.9.5"
  }
 },
 "nbformat": 4,
 "nbformat_minor": 5
}
